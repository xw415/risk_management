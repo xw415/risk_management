{
 "cells": [
  {
   "cell_type": "code",
   "execution_count": 1,
   "metadata": {},
   "outputs": [],
   "source": [
    "import numpy as np\n",
    "import pandas as pd\n",
    "from math import exp\n",
    "import matplotlib.pyplot as plt\n",
    "\n",
    "discount, recovery_rate = 0.05, 0.4\n",
    "maturity, coupon, bond_yield, face_value = 5, 0.06, 0.07, 1"
   ]
  },
  {
   "cell_type": "markdown",
   "metadata": {},
   "source": [
    "# price the bond"
   ]
  },
  {
   "cell_type": "code",
   "execution_count": 2,
   "metadata": {},
   "outputs": [
    {
     "data": {
      "image/png": "[encoded data removed]",
      "text/plain": [
       "<Figure size 432x288 with 1 Axes>"
      ]
     },
     "metadata": {
      "needs_background": "light"
     },
     "output_type": "display_data"
    },
    {
     "name": "stdout",
     "output_type": "stream",
     "text": [
      "\n",
      "risk free price = 1.0409\n",
      "corporate  bond price = 0.9534\n",
      "expected loss from default = 0.0875\n",
      "\n"
     ]
    }
   ],
   "source": [
    "cashflow = [face_value * coupon / 2] * (maturity * 2)\n",
    "cashflow[-1] += face_value\n",
    "\n",
    "plt.bar(np.arange(0, len(cashflow)/2,0.5)+0.5, cashflow, width=0.25)\n",
    "plt.title(f\"cashflow for a {100 * coupon}% {maturity} year bond\",fontsize=15)\n",
    "plt.ylabel(\"cash flow\",fontsize=15)\n",
    "plt.xlabel(\"years\",fontsize=15)\n",
    "plt.show()\n",
    "\n",
    "def bond_price_exp(cashflow, discount):\n",
    "    \"\"\"use exponential discount factor\"\"\"\n",
    "    return sum([c * exp(-discount/2 * (i + 1)) for i, c in enumerate(cashflow)])\n",
    "#     return sum([c / pow(1 + discount/2, i + 1) for i, c in enumerate(cashflow)])\n",
    "\n",
    "risk_free_price = bond_price_exp(cashflow, discount)\n",
    "bond_price = bond_price_exp(cashflow, bond_yield)\n",
    "expected_loss = risk_free_price - bond_price\n",
    "print(f\"\"\"\n",
    "risk free price = {risk_free_price:0.4f}\n",
    "corporate  bond price = {bond_price:0.4f}\n",
    "expected loss from default = {expected_loss:0.4f}\n",
    "\"\"\")"
   ]
  },
  {
   "cell_type": "markdown",
   "metadata": {},
   "source": [
    "# calculate loss from bond default"
   ]
  },
  {
   "cell_type": "code",
   "execution_count": 3,
   "metadata": {},
   "outputs": [
    {
     "data": {
      "text/plain": [
       "104.33719710142807"
      ]
     },
     "execution_count": 3,
     "metadata": {},
     "output_type": "execute_result"
    }
   ],
   "source": [
    "3 * (1 + exp(-discount*0.5) + exp(-discount) + exp(-discount*1.5)) + 100 * exp(-discount*1.5)"
   ]
  },
  {
   "cell_type": "code",
   "execution_count": 4,
   "metadata": {},
   "outputs": [
    {
     "data": {
      "text/html": [
       "<div>\n",
       "<style scoped>\n",
       "    .dataframe tbody tr th:only-of-type {\n",
       "        vertical-align: middle;\n",
       "    }\n",
       "\n",
       "    .dataframe tbody tr th {\n",
       "        vertical-align: top;\n",
       "    }\n",
       "\n",
       "    .dataframe thead th {\n",
       "        text-align: right;\n",
       "    }\n",
       "</style>\n",
       "<table border=\"1\" class=\"dataframe\">\n",
       "  <thead>\n",
       "    <tr style=\"text-align: right;\">\n",
       "      <th></th>\n",
       "      <th>time</th>\n",
       "      <th>default_free_value</th>\n",
       "      <th>recovery</th>\n",
       "      <th>loss</th>\n",
       "      <th>discount_factor</th>\n",
       "      <th>expected_loss_pv</th>\n",
       "    </tr>\n",
       "  </thead>\n",
       "  <tbody>\n",
       "    <tr>\n",
       "      <th>0</th>\n",
       "      <td>0.0</td>\n",
       "      <td>1.070936</td>\n",
       "      <td>0.4</td>\n",
       "      <td>0.670936</td>\n",
       "      <td>1.000000</td>\n",
       "      <td>0.670936</td>\n",
       "    </tr>\n",
       "    <tr>\n",
       "      <th>1</th>\n",
       "      <td>0.5</td>\n",
       "      <td>1.067287</td>\n",
       "      <td>0.4</td>\n",
       "      <td>0.667287</td>\n",
       "      <td>0.975310</td>\n",
       "      <td>0.650812</td>\n",
       "    </tr>\n",
       "    <tr>\n",
       "      <th>2</th>\n",
       "      <td>1.0</td>\n",
       "      <td>1.063546</td>\n",
       "      <td>0.4</td>\n",
       "      <td>0.663546</td>\n",
       "      <td>0.951229</td>\n",
       "      <td>0.631185</td>\n",
       "    </tr>\n",
       "    <tr>\n",
       "      <th>3</th>\n",
       "      <td>1.5</td>\n",
       "      <td>1.059710</td>\n",
       "      <td>0.4</td>\n",
       "      <td>0.659710</td>\n",
       "      <td>0.927743</td>\n",
       "      <td>0.612042</td>\n",
       "    </tr>\n",
       "    <tr>\n",
       "      <th>4</th>\n",
       "      <td>2.0</td>\n",
       "      <td>1.055778</td>\n",
       "      <td>0.4</td>\n",
       "      <td>0.655778</td>\n",
       "      <td>0.904837</td>\n",
       "      <td>0.593372</td>\n",
       "    </tr>\n",
       "    <tr>\n",
       "      <th>5</th>\n",
       "      <td>2.5</td>\n",
       "      <td>1.051745</td>\n",
       "      <td>0.4</td>\n",
       "      <td>0.651745</td>\n",
       "      <td>0.882497</td>\n",
       "      <td>0.575163</td>\n",
       "    </tr>\n",
       "    <tr>\n",
       "      <th>6</th>\n",
       "      <td>3.0</td>\n",
       "      <td>1.047611</td>\n",
       "      <td>0.4</td>\n",
       "      <td>0.647611</td>\n",
       "      <td>0.860708</td>\n",
       "      <td>0.557404</td>\n",
       "    </tr>\n",
       "    <tr>\n",
       "      <th>7</th>\n",
       "      <td>3.5</td>\n",
       "      <td>1.043372</td>\n",
       "      <td>0.4</td>\n",
       "      <td>0.643372</td>\n",
       "      <td>0.839457</td>\n",
       "      <td>0.540083</td>\n",
       "    </tr>\n",
       "    <tr>\n",
       "      <th>8</th>\n",
       "      <td>4.0</td>\n",
       "      <td>1.039026</td>\n",
       "      <td>0.4</td>\n",
       "      <td>0.639026</td>\n",
       "      <td>0.818731</td>\n",
       "      <td>0.523190</td>\n",
       "    </tr>\n",
       "    <tr>\n",
       "      <th>9</th>\n",
       "      <td>4.5</td>\n",
       "      <td>1.034569</td>\n",
       "      <td>0.4</td>\n",
       "      <td>0.634569</td>\n",
       "      <td>0.798516</td>\n",
       "      <td>0.506714</td>\n",
       "    </tr>\n",
       "  </tbody>\n",
       "</table>\n",
       "</div>"
      ],
      "text/plain": [
       "   time  default_free_value  recovery      loss  discount_factor  \\\n",
       "0   0.0            1.070936       0.4  0.670936         1.000000   \n",
       "1   0.5            1.067287       0.4  0.667287         0.975310   \n",
       "2   1.0            1.063546       0.4  0.663546         0.951229   \n",
       "3   1.5            1.059710       0.4  0.659710         0.927743   \n",
       "4   2.0            1.055778       0.4  0.655778         0.904837   \n",
       "5   2.5            1.051745       0.4  0.651745         0.882497   \n",
       "6   3.0            1.047611       0.4  0.647611         0.860708   \n",
       "7   3.5            1.043372       0.4  0.643372         0.839457   \n",
       "8   4.0            1.039026       0.4  0.639026         0.818731   \n",
       "9   4.5            1.034569       0.4  0.634569         0.798516   \n",
       "\n",
       "   expected_loss_pv  \n",
       "0          0.670936  \n",
       "1          0.650812  \n",
       "2          0.631185  \n",
       "3          0.612042  \n",
       "4          0.593372  \n",
       "5          0.575163  \n",
       "6          0.557404  \n",
       "7          0.540083  \n",
       "8          0.523190  \n",
       "9          0.506714  "
      ]
     },
     "execution_count": 4,
     "metadata": {},
     "output_type": "execute_result"
    }
   ],
   "source": [
    "default_free_value = \\\n",
    "    [coupon / 2 * sum([exp(-discount * t/2) for t in range(n+1)]) +  1 * exp(-discount * n/2)\n",
    "    for n in np.arange(maturity * 2,0,-1)]\n",
    "\n",
    "losses = pd.DataFrame([np.arange(0,maturity*2) / 2, \n",
    "                       default_free_value,\n",
    "                       [recovery_rate] * (maturity * 2)],\n",
    "                      index=['time','default_free_value','recovery']\n",
    "                     ).transpose()\n",
    "\n",
    "losses['loss'] = losses['default_free_value'] - losses['recovery']\n",
    "losses['discount_factor'] = [exp(-discount * n/2) for n in range(maturity * 2)]\n",
    "losses['expected_loss_pv'] = losses['loss'] * losses['discount_factor']\n",
    "losses"
   ]
  },
  {
   "cell_type": "code",
   "execution_count": 5,
   "metadata": {},
   "outputs": [
    {
     "name": "stdout",
     "output_type": "stream",
     "text": [
      "present value of the sum of losses = 5.86\n"
     ]
    }
   ],
   "source": [
    "pv_of_losses = sum(losses['expected_loss_pv'])\n",
    "print(f\"present value of the sum of losses = {pv_of_losses:0.2f}\")"
   ]
  },
  {
   "cell_type": "markdown",
   "metadata": {},
   "source": [
    "# present value of losses versus expected losses"
   ]
  },
  {
   "cell_type": "code",
   "execution_count": 6,
   "metadata": {},
   "outputs": [
    {
     "name": "stdout",
     "output_type": "stream",
     "text": [
      "expected loss from default = 0.0875\n",
      "semi-annual loss probability = 0.01493\n"
     ]
    }
   ],
   "source": [
    "print(f\"expected loss from default = {expected_loss:0.4f}\")\n",
    "print(f\"semi-annual loss probability = {expected_loss / pv_of_losses:0.5f}\")"
   ]
  }
 ],
 "metadata": {
  "kernelspec": {
   "display_name": "Python 3",
   "language": "python",
   "name": "python3"
  },
  "language_info": {
   "codemirror_mode": {
    "name": "ipython",
    "version": 3
   },
   "file_extension": ".py",
   "mimetype": "text/x-python",
   "name": "python",
   "nbconvert_exporter": "python",
   "pygments_lexer": "ipython3",
   "version": "3.7.4"
  }
 },
 "nbformat": 4,
 "nbformat_minor": 2
}
